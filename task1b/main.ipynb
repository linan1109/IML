{
 "cells": [
  {
   "cell_type": "code",
   "execution_count": 1,
   "metadata": {},
   "outputs": [],
   "source": [
    "import numpy as np\n",
    "import pandas as pd\n",
    "\n",
    "from sklearn.model_selection import KFold"
   ]
  },
  {
   "cell_type": "code",
   "execution_count": 2,
   "metadata": {},
   "outputs": [],
   "source": [
    "def transform_data(X):\n",
    "    \"\"\"\n",
    "    This function transforms the 5 input features of matrix X (x_i denoting the i-th component of X) \n",
    "    into 21 new features phi(X) in the following manner:\n",
    "    5 linear features: phi_1(X) = x_1, phi_2(X) = x_2, phi_3(X) = x_3, phi_4(X) = x_4, phi_5(X) = x_5\n",
    "    5 quadratic features: phi_6(X) = x_1^2, phi_7(X) = x_2^2, phi_8(X) = x_3^2, phi_9(X) = x_4^2, phi_10(X) = x_5^2\n",
    "    5 exponential features: phi_11(X) = exp(x_1), phi_12(X) = exp(x_2), phi_13(X) = exp(x_3), phi_14(X) = exp(x_4), phi_15(X) = exp(x_5)\n",
    "    5 cosine features: phi_16(X) = cos(x_1), phi_17(X) = cos(x_2), phi_18(X) = cos(x_3), phi_19(X) = cos(x_4), phi_20(X) = cos(x_5)\n",
    "    1 constant features: phi_21(X)=1\n",
    "\n",
    "    Parameters\n",
    "    ----------\n",
    "    X: matrix of floats, dim = (700,5), inputs with 5 features\n",
    "\n",
    "    Returns\n",
    "    ----------\n",
    "    X_transformed: array of floats: dim = (700,21), transformed input with 21 features\n",
    "    \"\"\"\n",
    "    X_transformed = np.zeros((len(X), 21))\n",
    "    \n",
    "    phi_1 = X[:,0]\n",
    "    phi_2 = X[:,1]\n",
    "    phi_3 = X[:,2]\n",
    "    phi_4 = X[:,3]\n",
    "    phi_5 = X[:,4]\n",
    "    phi_6 = phi_1**2\n",
    "    phi_7 = phi_2**2\n",
    "    phi_8 = phi_3**2\n",
    "    phi_9 = phi_4**2\n",
    "    phi_10 = phi_5**2\n",
    "    phi_11 = np.exp(phi_1)\n",
    "    phi_12 = np.exp(phi_2)\n",
    "    phi_13 = np.exp(phi_3)\n",
    "    phi_14 = np.exp(phi_4)\n",
    "    phi_15 = np.exp(phi_5)\n",
    "    phi_16 = np.cos(phi_1)\n",
    "    phi_17 = np.cos(phi_2)\n",
    "    phi_18 = np.cos(phi_3)\n",
    "    phi_19 = np.cos(phi_4)\n",
    "    phi_20 = np.cos(phi_5)\n",
    "    phi_21 = np.ones(len(X))\n",
    "    X_transformed = np.array([phi_1, phi_2, phi_3, phi_4, phi_5, phi_6, phi_7, phi_8, phi_9, phi_10, phi_11, phi_12, phi_13, phi_14, phi_15, phi_16, phi_17, phi_18, phi_19, phi_20, phi_21]).T\n",
    "\n",
    "    assert X_transformed.shape == (len(X), 21)\n",
    "    return X_transformed\n"
   ]
  },
  {
   "cell_type": "code",
   "execution_count": 3,
   "metadata": {},
   "outputs": [],
   "source": [
    "def scale_X(X):\n",
    "    X_scaled = np.ones((len(X), 21))\n",
    "    X_max = np.max(X, axis=0)\n",
    "    X_min = np.min(X, axis=0)\n",
    "    for i in range(20):\n",
    "        # X_scaled[:,i] = (X[:,i] - X_min[i])/(X_max[i] - X_min[i])\n",
    "        X_scaled[:,i] = X[:,i]/X_max[i]\n",
    "    assert X_scaled.shape == (len(X), 21)\n",
    "    return X_scaled, X_max"
   ]
  },
  {
   "cell_type": "code",
   "execution_count": 4,
   "metadata": {},
   "outputs": [],
   "source": [
    "def rescale_w(w, X_max, y_max):\n",
    "    w_rescaled = np.copy(w)\n",
    "    for i in range(20):\n",
    "        w_rescaled[i] = w[i] / X_max[i] * y_max\n",
    "    return w_rescaled"
   ]
  },
  {
   "cell_type": "code",
   "execution_count": 5,
   "metadata": {},
   "outputs": [],
   "source": [
    "def calculate_RMSE(w, X, y):\n",
    "    \"\"\"This function takes test data points (X and y), and computes the empirical RMSE of \n",
    "    predicting y from X using a linear model with weights w. \n",
    "\n",
    "    Parameters\n",
    "    ----------\n",
    "    w: array of floats: dim = (13,), optimal parameters of ridge regression \n",
    "    X: matrix of floats, dim = (15,13), inputs with 13 features\n",
    "    y: array of floats, dim = (15,), input labels\n",
    "\n",
    "    Returns\n",
    "    ----------\n",
    "    RMSE: float: dim = 1, RMSE value\n",
    "    \"\"\"\n",
    "    X_transformed = transform_data(X)\n",
    "    RMSE = np.sqrt(np.mean((y - np.dot(X_transformed, w))**2))\n",
    "    assert np.isscalar(RMSE)\n",
    "    return RMSE\n"
   ]
  },
  {
   "cell_type": "code",
   "execution_count": 6,
   "metadata": {},
   "outputs": [],
   "source": [
    "def fit(X, y, lam):\n",
    "    \"\"\"\n",
    "    This function receives training data points, transform them, and then fits the linear regression on this \n",
    "    transformed data. Finally, it outputs the weights of the fitted linear regression. \n",
    "\n",
    "    Parameters\n",
    "    ----------\n",
    "    X: matrix of floats, dim = (700,5), inputs with 5 features\n",
    "    y: array of floats, dim = (700,), input labels)\n",
    "\n",
    "    Returns\n",
    "    ----------\n",
    "    w: array of floats: dim = (21,), optimal parameters of linear regression\n",
    "    \"\"\"\n",
    "    w = np.zeros((21,))\n",
    "    X_transformed = transform_data(X)\n",
    "    X_scaled, X_max = scale_X(X_transformed)\n",
    "    y_scaled = y / np.max(y)\n",
    "    w = np.linalg.inv(X_scaled.T @ X_scaled + lam * np.identity(21)) @ X_scaled.T @ y_scaled\n",
    "    w = rescale_w(w, X_max, np.max(y))\n",
    "    assert w.shape == (21,)\n",
    "    return w"
   ]
  },
  {
   "cell_type": "code",
   "execution_count": 7,
   "metadata": {},
   "outputs": [],
   "source": [
    "def find_lam(X, y):\n",
    "    lam_list = [0, 0.00003, 0.0001, 0.0003, 0.001, 0.003, 0.01, 0.03, 0.1, 0.3, 1, 3, 10, 30, 100, 300, 1000, 3000, 10000, 30000, 100000]\n",
    "    RMSE_mat = np.zeros((10, len(lam_list)))\n",
    "    kf = KFold(n_splits=10, shuffle=True, random_state=2023)\n",
    "    for i, (train_index, test_index) in enumerate(kf.split(X)):\n",
    "        X_train, X_test = X[train_index], X[test_index]\n",
    "        y_train, y_test = y[train_index], y[test_index]\n",
    "        for j, lam in enumerate(lam_list):\n",
    "            w = fit(X_train, y_train, lam)\n",
    "            RMSE_mat[i, j] = calculate_RMSE(w, X_test, y_test)\n",
    "\n",
    "    avg_RMSE = np.mean(RMSE_mat, axis=0)\n",
    "\n",
    "    return lam_list[np.argmin(avg_RMSE)]\n"
   ]
  },
  {
   "cell_type": "code",
   "execution_count": 8,
   "metadata": {},
   "outputs": [
    {
     "name": "stdout",
     "output_type": "stream",
     "text": [
      "     x1    x2    x3    x4    x5\n",
      "0  0.02  0.05 -0.09 -0.43 -0.08\n",
      "1 -0.13  0.11 -0.08 -0.29 -0.03\n",
      "2  0.08  0.06 -0.07 -0.41 -0.03\n",
      "3  0.02 -0.12  0.01 -0.43 -0.02\n",
      "4 -0.14 -0.12 -0.08 -0.02 -0.08\n",
      "best lam is  0.01\n",
      "RMSE is  1.9415062480051746\n"
     ]
    }
   ],
   "source": [
    "# Data loading\n",
    "data = pd.read_csv(\"train.csv\")\n",
    "y = data[\"y\"].to_numpy()\n",
    "data = data.drop(columns=[\"Id\", \"y\"])\n",
    "# print a few data samples\n",
    "print(data.head())\n",
    "\n",
    "X = data.to_numpy()\n",
    "# The function retrieving optimal LR parameters\n",
    "lam = find_lam(X, y)\n",
    "print('best lam is ', lam)\n",
    "w = fit(X, y, lam)\n",
    "# Save results in the required format\n",
    "RMSE = calculate_RMSE(w, X, y)\n",
    "print('RMSE is ', RMSE)\n",
    "np.savetxt(\"./results.csv\", w, fmt=\"%.12f\")"
   ]
  }
 ],
 "metadata": {
  "kernelspec": {
   "display_name": "base",
   "language": "python",
   "name": "python3"
  },
  "language_info": {
   "codemirror_mode": {
    "name": "ipython",
    "version": 3
   },
   "file_extension": ".py",
   "mimetype": "text/x-python",
   "name": "python",
   "nbconvert_exporter": "python",
   "pygments_lexer": "ipython3",
   "version": "3.9.13"
  },
  "orig_nbformat": 4
 },
 "nbformat": 4,
 "nbformat_minor": 2
}
