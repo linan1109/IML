{
 "cells": [
  {
   "cell_type": "code",
   "execution_count": 1,
   "metadata": {},
   "outputs": [],
   "source": [
    "import numpy as np\n",
    "import pandas as pd\n",
    "\n",
    "from sklearn.linear_model import RidgeCV"
   ]
  },
  {
   "cell_type": "code",
   "execution_count": 2,
   "metadata": {},
   "outputs": [],
   "source": [
    "def transform_data(X):\n",
    "    \"\"\"\n",
    "    This function transforms the 5 input features of matrix X (x_i denoting the i-th component of X) \n",
    "    into 21 new features phi(X) in the following manner:\n",
    "    5 linear features: phi_1(X) = x_1, phi_2(X) = x_2, phi_3(X) = x_3, phi_4(X) = x_4, phi_5(X) = x_5\n",
    "    5 quadratic features: phi_6(X) = x_1^2, phi_7(X) = x_2^2, phi_8(X) = x_3^2, phi_9(X) = x_4^2, phi_10(X) = x_5^2\n",
    "    5 exponential features: phi_11(X) = exp(x_1), phi_12(X) = exp(x_2), phi_13(X) = exp(x_3), phi_14(X) = exp(x_4), phi_15(X) = exp(x_5)\n",
    "    5 cosine features: phi_16(X) = cos(x_1), phi_17(X) = cos(x_2), phi_18(X) = cos(x_3), phi_19(X) = cos(x_4), phi_20(X) = cos(x_5)\n",
    "    1 constant features: phi_21(X)=1\n",
    "\n",
    "    Parameters\n",
    "    ----------\n",
    "    X: matrix of floats, dim = (700,5), inputs with 5 features\n",
    "\n",
    "    Returns\n",
    "    ----------\n",
    "    X_transformed: array of floats: dim = (700,21), transformed input with 21 features\n",
    "    \"\"\"\n",
    "    X_transformed = np.zeros((len(X), 21))\n",
    "    \n",
    "    phi_1 = X[:,0]\n",
    "    phi_2 = X[:,1]\n",
    "    phi_3 = X[:,2]\n",
    "    phi_4 = X[:,3]\n",
    "    phi_5 = X[:,4]\n",
    "    phi_6 = phi_1**2\n",
    "    phi_7 = phi_2**2\n",
    "    phi_8 = phi_3**2\n",
    "    phi_9 = phi_4**2\n",
    "    phi_10 = phi_5**2\n",
    "    phi_11 = np.exp(phi_1)\n",
    "    phi_12 = np.exp(phi_2)\n",
    "    phi_13 = np.exp(phi_3)\n",
    "    phi_14 = np.exp(phi_4)\n",
    "    phi_15 = np.exp(phi_5)\n",
    "    phi_16 = np.cos(phi_1)\n",
    "    phi_17 = np.cos(phi_2)\n",
    "    phi_18 = np.cos(phi_3)\n",
    "    phi_19 = np.cos(phi_4)\n",
    "    phi_20 = np.cos(phi_5)\n",
    "    phi_21 = np.ones(len(X))\n",
    "    X_transformed = np.array([phi_1, phi_2, phi_3, phi_4, phi_5, phi_6, phi_7, phi_8, phi_9, phi_10, phi_11, phi_12, phi_13, phi_14, phi_15, phi_16, phi_17, phi_18, phi_19, phi_20, phi_21]).T\n",
    "\n",
    "    assert X_transformed.shape == (len(X), 21)\n",
    "    return X_transformed\n"
   ]
  },
  {
   "cell_type": "code",
   "execution_count": 3,
   "metadata": {},
   "outputs": [],
   "source": [
    "def calculate_RMSE(w, X, y):\n",
    "    \"\"\"This function takes test data points (X and y), and computes the empirical RMSE of \n",
    "    predicting y from X using a linear model with weights w. \n",
    "\n",
    "    Parameters\n",
    "    ----------\n",
    "    w: array of floats: dim = (13,), optimal parameters of ridge regression \n",
    "    X: matrix of floats, dim = (15,13), inputs with 13 features\n",
    "    y: array of floats, dim = (15,), input labels\n",
    "\n",
    "    Returns\n",
    "    ----------\n",
    "    RMSE: float: dim = 1, RMSE value\n",
    "    \"\"\"\n",
    "    X_transformed = transform_data(X)\n",
    "    RMSE = np.sqrt(np.mean((y - np.dot(X_transformed, w))**2))\n",
    "    assert np.isscalar(RMSE)\n",
    "    return RMSE\n"
   ]
  },
  {
   "cell_type": "code",
   "execution_count": 4,
   "metadata": {},
   "outputs": [],
   "source": [
    "def fit(X, y, ):\n",
    "    \"\"\"\n",
    "    This function receives training data points, transform them, and then fits the linear regression on this \n",
    "    transformed data. Finally, it outputs the weights of the fitted linear regression. \n",
    "\n",
    "    Parameters\n",
    "    ----------\n",
    "    X: matrix of floats, dim = (700,5), inputs with 5 features\n",
    "    y: array of floats, dim = (700,), input labels)\n",
    "\n",
    "    Returns\n",
    "    ----------\n",
    "    w: array of floats: dim = (21,), optimal parameters of linear regression\n",
    "    \"\"\"\n",
    "    w = np.zeros((21,))\n",
    "    X_transformed = transform_data(X)\n",
    "    # X_abs_max = np.max(np.abs(X_transformed), axis=0)\n",
    "    # X_transformed = X_transformed / X_abs_max\n",
    "    alpha_list = np.logspace(-3, 3, 1000)\n",
    "    ridge = RidgeCV(alphas=alpha_list, fit_intercept=False, cv=10)\n",
    "    ridge.fit(X_transformed, y)\n",
    "    print('alpha =', ridge.alpha_)\n",
    "    w = ridge.coef_\n",
    "    # w = w / X_abs_max\n",
    "    assert w.shape == (21,)\n",
    "    return w"
   ]
  },
  {
   "cell_type": "code",
   "execution_count": 5,
   "metadata": {},
   "outputs": [
    {
     "name": "stdout",
     "output_type": "stream",
     "text": [
      "     x1    x2    x3    x4    x5\n",
      "0  0.02  0.05 -0.09 -0.43 -0.08\n",
      "1 -0.13  0.11 -0.08 -0.29 -0.03\n",
      "2  0.08  0.06 -0.07 -0.41 -0.03\n",
      "3  0.02 -0.12  0.01 -0.43 -0.02\n",
      "4 -0.14 -0.12 -0.08 -0.02 -0.08\n",
      "alpha = 40.4209583979631\n",
      "RMSE is  1.9541133268845612\n"
     ]
    }
   ],
   "source": [
    "# Data loading\n",
    "data = pd.read_csv(\"train.csv\")\n",
    "y = data[\"y\"].to_numpy()\n",
    "data = data.drop(columns=[\"Id\", \"y\"])\n",
    "# print a few data samples\n",
    "print(data.head())\n",
    "X = data.to_numpy()\n",
    "# The function retrieving optimal LR parameters\n",
    "w = fit(X, y)\n",
    "# Save results in the required format\n",
    "RMSE = calculate_RMSE(w, X, y)\n",
    "print('RMSE is ', RMSE)\n",
    "np.savetxt(\"./results-ridge.csv\", w, fmt=\"%.12f\")"
   ]
  }
 ],
 "metadata": {
  "kernelspec": {
   "display_name": "base",
   "language": "python",
   "name": "python3"
  },
  "language_info": {
   "codemirror_mode": {
    "name": "ipython",
    "version": 3
   },
   "file_extension": ".py",
   "mimetype": "text/x-python",
   "name": "python",
   "nbconvert_exporter": "python",
   "pygments_lexer": "ipython3",
   "version": "3.9.13"
  },
  "orig_nbformat": 4
 },
 "nbformat": 4,
 "nbformat_minor": 2
}
