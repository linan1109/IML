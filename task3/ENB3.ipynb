{
 "cells": [
  {
   "cell_type": "code",
   "execution_count": 1,
   "metadata": {},
   "outputs": [],
   "source": [
    "import numpy as np\n",
    "from torchvision import transforms\n",
    "from torch.utils.data import DataLoader, TensorDataset\n",
    "import os\n",
    "import torch\n",
    "import torchvision\n",
    "import torchvision.datasets as datasets\n",
    "import torch.nn as nn\n",
    "import torch.nn.functional as F\n",
    "from sklearn.preprocessing import StandardScaler, MinMaxScaler\n",
    "\n",
    "\n",
    "device = torch.device(\"cuda\" if torch.cuda.is_available() else \"cpu\")"
   ]
  },
  {
   "cell_type": "code",
   "execution_count": 2,
   "metadata": {},
   "outputs": [],
   "source": [
    "from torchvision.models import efficientnet_b3 as ENB3\n",
    "from torchvision.models import efficientnet_v2_s as ENV2S"
   ]
  },
  {
   "cell_type": "code",
   "execution_count": 3,
   "metadata": {},
   "outputs": [],
   "source": [
    "def generate_embeddings(embeddings_file_name):\n",
    "    \"\"\"\n",
    "    Transform, resize and normalize the images and then use a pretrained model to extract \n",
    "    the embeddings.\n",
    "    \"\"\"\n",
    "    # TODO: define a transform to pre-process the images\n",
    "    # train_transforms = transforms.Compose(\n",
    "    #     # maybe need to resize?\n",
    "    #     # [transforms.Resize((224, 224)),]\n",
    "    #     # maybe normalize?\n",
    "    #     # [transforms.Normalize()]\n",
    "    #     [transforms.ToTensor()])\n",
    "    weights = torchvision.models.EfficientNet_B3_Weights.IMAGENET1K_V1\n",
    "    train_dataset = datasets.ImageFolder(root=\"./dataset/\", transform=weights.transforms())\n",
    "    # Hint: adjust batch_size and num_workers to your PC configuration, so that you don't \n",
    "    # run out of memory\n",
    "    train_loader = DataLoader(dataset=train_dataset,\n",
    "                              batch_size=1,\n",
    "                              shuffle=False,\n",
    "                              pin_memory=True, num_workers=6)\n",
    "\n",
    "    # TODO: define a model for extraction of the embeddings (Hint: load a pretrained model,\n",
    "    #  more info here: https://pytorch.org/vision/stable/models.html)\n",
    "    # model = nn.Module()\n",
    "    model = ENB3(weights=weights)\n",
    "    embeddings = []\n",
    "    embedding_size = model.classifier[1].in_features  # Dummy variable, replace with the actual embedding size once you pick your model\n",
    "\n",
    "    num_images = len(train_dataset)\n",
    "    embeddings = np.zeros((num_images, embedding_size))\n",
    "    # TODO: Use the model to extract the embeddings. Hint: remove the last layers of the \n",
    "    # model to access the embeddings the model generates.\n",
    "\n",
    "    # remove last layer\n",
    "    model = nn.Sequential(*list(model.children())[:-1])\n",
    "\n",
    "    model.to(device)\n",
    "\n",
    "    # extract embeddings\n",
    "    for i, (images, _) in enumerate(train_loader):\n",
    "        embeddings[i] = model(images.to(device)).flatten().cpu().detach().numpy()\n",
    "\n",
    "    np.save(embeddings_file_name, embeddings)"
   ]
  },
  {
   "cell_type": "code",
   "execution_count": 4,
   "metadata": {},
   "outputs": [],
   "source": [
    "embeddings_file_name = 'dataset/embeddings-ENB3.npy'\n",
    "# generate embedding for each image in the dataset\n",
    "if(os.path.exists(embeddings_file_name) == False):\n",
    "    generate_embeddings(embeddings_file_name)"
   ]
  },
  {
   "cell_type": "code",
   "execution_count": 5,
   "metadata": {},
   "outputs": [],
   "source": [
    "def get_data(file, train=True):\n",
    "    \"\"\"\n",
    "    Load the triplets from the file and generate the features and labels.\n",
    "\n",
    "    input: file: string, the path to the file containing the triplets\n",
    "          train: boolean, whether the data is for training or testing\n",
    "\n",
    "    output: X: numpy array, the features\n",
    "            y: numpy array, the labels\n",
    "    \"\"\"\n",
    "    triplets = []\n",
    "    with open(file) as f:\n",
    "        for line in f:\n",
    "            triplets.append(line)\n",
    "\n",
    "    # generate training data from triplets\n",
    "    train_dataset = datasets.ImageFolder(root=\"dataset/\",\n",
    "                                         transform=None)\n",
    "    filenames = [s[0].split('\\\\')[-1].replace('.jpg', '') for s in train_dataset.samples]\n",
    "    embeddings = np.load(embeddings_file_name)\n",
    "    # TODO: Normalize the embeddings across the dataset\n",
    "    embeddings = StandardScaler().fit_transform(embeddings)\n",
    "\n",
    "    file_to_embedding = {}\n",
    "    for i in range(len(filenames)):\n",
    "        file_to_embedding[filenames[i]] = embeddings[i]\n",
    "    X = []\n",
    "    y = []\n",
    "    # use the individual embeddings to generate the features and labels for triplets\n",
    "    for t in triplets:\n",
    "        emb = [file_to_embedding[a] for a in t.split()]\n",
    "        X.append(np.hstack([emb[0], emb[1], emb[2]]))\n",
    "        y.append(1)\n",
    "        # Generating negative samples (data augmentation)\n",
    "        if train:\n",
    "            X.append(np.hstack([emb[0], emb[2], emb[1]]))\n",
    "            y.append(0)\n",
    "    X = np.vstack(X)\n",
    "    y = np.hstack(y)\n",
    "    return X, y"
   ]
  },
  {
   "cell_type": "code",
   "execution_count": 6,
   "metadata": {},
   "outputs": [],
   "source": [
    "TRAIN_TRIPLETS = 'train_triplets.txt'\n",
    "TEST_TRIPLETS = 'test_triplets.txt'\n",
    "\n",
    "# load the training and testing data\n",
    "X, y = get_data(TRAIN_TRIPLETS)\n",
    "X_test, _ = get_data(TEST_TRIPLETS, train=False)"
   ]
  },
  {
   "cell_type": "code",
   "execution_count": 7,
   "metadata": {},
   "outputs": [
    {
     "data": {
      "text/plain": [
       "4608"
      ]
     },
     "execution_count": 7,
     "metadata": {},
     "output_type": "execute_result"
    }
   ],
   "source": [
    "X.shape[1]"
   ]
  },
  {
   "cell_type": "code",
   "execution_count": 8,
   "metadata": {},
   "outputs": [],
   "source": [
    "# Hint: adjust batch_size and num_workers to your PC configuration, so that you don't run out of memory\n",
    "def create_loader_from_np(X, y = None, train = True, batch_size=64, shuffle=True, num_workers = 4):\n",
    "    \"\"\"\n",
    "    Create a torch.utils.data.DataLoader object from numpy arrays containing the data.\n",
    "\n",
    "    input: X: numpy array, the features\n",
    "           y: numpy array, the labels\n",
    "    \n",
    "    output: loader: torch.data.util.DataLoader, the object containing the data\n",
    "    \"\"\"\n",
    "    if train:\n",
    "        dataset = TensorDataset(torch.from_numpy(X).type(torch.float), \n",
    "                                torch.from_numpy(y).type(torch.long))\n",
    "    else:\n",
    "        dataset = TensorDataset(torch.from_numpy(X).type(torch.float))\n",
    "    loader = DataLoader(dataset=dataset,\n",
    "                        batch_size=batch_size,\n",
    "                        shuffle=shuffle,\n",
    "                        pin_memory=True, num_workers=num_workers)\n",
    "    return loader"
   ]
  },
  {
   "cell_type": "code",
   "execution_count": 9,
   "metadata": {},
   "outputs": [],
   "source": [
    "# Create data loaders for the training and testing data\n",
    "train_loader = create_loader_from_np(X, y, train = True, batch_size=64)\n",
    "test_loader = create_loader_from_np(X_test, train = False, batch_size=2048, shuffle=False)"
   ]
  },
  {
   "cell_type": "code",
   "execution_count": 20,
   "metadata": {},
   "outputs": [],
   "source": [
    "def test_model(model, loader, filename='results.txt'):\n",
    "    \"\"\"\n",
    "    The testing procedure of the model; it accepts the testing data and the trained model and \n",
    "    then tests the model on it.\n",
    "\n",
    "    input: model: torch.nn.Module, the trained model\n",
    "           loader: torch.data.util.DataLoader, the object containing the testing data\n",
    "        \n",
    "    output: None, the function saves the predictions to a results.txt file\n",
    "    \"\"\"\n",
    "    model.eval()\n",
    "    predictions = []\n",
    "    # Iterate over the test data\n",
    "    with torch.no_grad(): # We don't need to compute gradients for testing\n",
    "        for [x_batch] in loader:\n",
    "            x_batch= x_batch.to(device)\n",
    "            predicted = model(x_batch)\n",
    "            predicted = predicted.cpu().numpy()\n",
    "            # Rounding the predictions to 0 or 1\n",
    "            predicted[predicted >= 0.5] = 1\n",
    "            predicted[predicted < 0.5] = 0\n",
    "            predictions.append(predicted)\n",
    "        predictions = np.vstack(predictions)\n",
    "    np.savetxt(filename, predictions, fmt='%i')"
   ]
  },
  {
   "cell_type": "code",
   "execution_count": 11,
   "metadata": {},
   "outputs": [],
   "source": [
    "# TODO: define a model. Here, the basic structure is defined, but you need to fill in the details\n",
    "class Net(nn.Module):\n",
    "    \"\"\"\n",
    "    The model class, which defines our classifier.\n",
    "    \"\"\"\n",
    "    def __init__(self):\n",
    "        \"\"\"\n",
    "        The constructor of the model.\n",
    "        \"\"\"\n",
    "        super().__init__()\n",
    "        self.fc1 = nn.Linear(X.shape[1], 1024)\n",
    "        self.fc2 = nn.Linear(1024, 512)\n",
    "        self.fc3 = nn.Linear(512, 256)\n",
    "        self.fc4 = nn.Linear(256, 1)\n",
    "\n",
    "    def forward(self, x):\n",
    "        \"\"\"\n",
    "        The forward pass of the model.\n",
    "\n",
    "        input: x: torch.Tensor, the input to the model\n",
    "\n",
    "        output: x: torch.Tensor, the output of the model\n",
    "        \"\"\"\n",
    "        x = F.relu(self.fc1(x))\n",
    "        x = F.dropout(x, p=0.3)\n",
    "        x = F.relu(self.fc2(x))\n",
    "        x = F.dropout(x, p=0.4)\n",
    "        x = F.relu(self.fc3(x))\n",
    "        x = F.dropout(x, p=0.5)\n",
    "        x = torch.sigmoid(self.fc4(x))\n",
    "        return x\n"
   ]
  },
  {
   "cell_type": "code",
   "execution_count": 16,
   "metadata": {},
   "outputs": [],
   "source": [
    "def train_model(train_loader):\n",
    "    \"\"\"\n",
    "    The training procedure of the model; it accepts the training data, defines the model \n",
    "    and then trains it.\n",
    "\n",
    "    input: train_loader: torch.data.util.DataLoader, the object containing the training data\n",
    "    \n",
    "    output: model: torch.nn.Module, the trained model\n",
    "    \"\"\"\n",
    "    model = Net()\n",
    "    model.train()\n",
    "    model.to(device)\n",
    "    n_epochs = 10\n",
    "    # TODO: define a loss function, optimizer and proceed with training. Hint: use the part \n",
    "    # of the training data as a validation split. After each epoch, compute the loss on the \n",
    "    # validation split and print it out. This enables you to see how your model is performing \n",
    "    # on the validation data before submitting the results on the server. After choosing the \n",
    "    # best model, train it on the whole training data.\n",
    "    loss_fun = nn.BCELoss()\n",
    "    optimizer = torch.optim.Adam(model.parameters(), lr=0.001)\n",
    "    scheduler = torch.optim.lr_scheduler.ReduceLROnPlateau(optimizer, mode='max', factor=0.3, patience=5, verbose=True)\n",
    "    train_size = len(train_loader.dataset)\n",
    "    valid_size = int(train_size * 0.2)\n",
    "    train_size = train_size - valid_size\n",
    "    epoch_train_data, epoch_valid_data = torch.utils.data.random_split(train_loader.dataset, [train_size, valid_size])\n",
    "    epoch_train_loader = create_loader_from_np(epoch_train_data[:][0].numpy(), epoch_train_data[:][1].numpy(), train = True, batch_size=64)\n",
    "    epoch_valid_loader = create_loader_from_np(epoch_valid_data[:][0].numpy(), epoch_valid_data[:][1].numpy(), train = True, batch_size=64)\n",
    "    for epoch in range(n_epochs):\n",
    "        train_loss = 0\n",
    "        valid_loss = 0\n",
    "        number_of_correct_train = 0\n",
    "        number_of_correct_valid = 0\n",
    "        for [x, t] in epoch_train_loader:\n",
    "            optimizer.zero_grad()\n",
    "            output = model(x.to(device)).flatten()\n",
    "            prediction = (output >= 0.5).type(torch.int)\n",
    "            t = t.to(device)\n",
    "            number_of_correct_train += (prediction == t).sum().item()\n",
    "            loss = loss_fun(output, t.type(torch.float))\n",
    "            loss.backward()\n",
    "            optimizer.step()\n",
    "            train_loss += loss.item() \n",
    "        train_loss /= len(epoch_train_loader)\n",
    "        for [x, t] in epoch_valid_loader:\n",
    "            output = model(x.to(device)).flatten()\n",
    "            prediction = (output >= 0.5).type(torch.int)\n",
    "            t = t.to(device)\n",
    "            number_of_correct_valid += (prediction == t).sum().item()\n",
    "            loss = loss_fun(output, t.to(device).type(torch.float))\n",
    "            valid_loss += loss.item()\n",
    "        valid_loss /= len(epoch_valid_loader)\n",
    "        scheduler.step(number_of_correct_valid / valid_size)\n",
    "        print('Epoch: {}, Training Loss: {:.4f}, Validation Loss: {:.4f}'.format(epoch+1, train_loss, valid_loss))\n",
    "        print('Training Accuracy: {:.4f}, Validation Accuracy: {:.4f}'.format(number_of_correct_train / train_size, number_of_correct_valid / valid_size))\n",
    "        if (optimizer.param_groups[0]['lr'] < 1e-6):\n",
    "            break\n",
    "    return model"
   ]
  },
  {
   "cell_type": "code",
   "execution_count": 17,
   "metadata": {},
   "outputs": [
    {
     "name": "stdout",
     "output_type": "stream",
     "text": [
      "Epoch: 1, Training Loss: 0.6913, Validation Loss: 0.6810\n",
      "Training Accuracy: 0.5334, Validation Accuracy: 0.5544\n",
      "Epoch: 2, Training Loss: 0.6558, Validation Loss: 0.6671\n",
      "Training Accuracy: 0.6066, Validation Accuracy: 0.5969\n",
      "Epoch: 3, Training Loss: 0.5925, Validation Loss: 0.6292\n",
      "Training Accuracy: 0.6730, Validation Accuracy: 0.6437\n",
      "Epoch: 4, Training Loss: 0.5092, Validation Loss: 0.6185\n",
      "Training Accuracy: 0.7302, Validation Accuracy: 0.6716\n",
      "Epoch: 5, Training Loss: 0.4279, Validation Loss: 0.5977\n",
      "Training Accuracy: 0.7834, Validation Accuracy: 0.7025\n",
      "Epoch: 6, Training Loss: 0.3584, Validation Loss: 0.5888\n",
      "Training Accuracy: 0.8213, Validation Accuracy: 0.7279\n",
      "Epoch: 7, Training Loss: 0.3075, Validation Loss: 0.5914\n",
      "Training Accuracy: 0.8493, Validation Accuracy: 0.7435\n",
      "Epoch: 8, Training Loss: 0.2731, Validation Loss: 0.6270\n",
      "Training Accuracy: 0.8666, Validation Accuracy: 0.7543\n",
      "Epoch: 9, Training Loss: 0.2455, Validation Loss: 0.5707\n",
      "Training Accuracy: 0.8802, Validation Accuracy: 0.7615\n",
      "Epoch: 10, Training Loss: 0.2271, Validation Loss: 0.5856\n",
      "Training Accuracy: 0.8905, Validation Accuracy: 0.7729\n"
     ]
    }
   ],
   "source": [
    "# define a model and train it\n",
    "model = train_model(train_loader)"
   ]
  },
  {
   "cell_type": "code",
   "execution_count": 21,
   "metadata": {},
   "outputs": [
    {
     "name": "stdout",
     "output_type": "stream",
     "text": [
      "Results saved to results.txt\n"
     ]
    }
   ],
   "source": [
    "# test the model on the test data\n",
    "test_model(model, test_loader, 'results-enb3-10.txt')\n",
    "print(\"Results saved to results.txt\")"
   ]
  }
 ],
 "metadata": {
  "kernelspec": {
   "display_name": "DL",
   "language": "python",
   "name": "python3"
  },
  "language_info": {
   "codemirror_mode": {
    "name": "ipython",
    "version": 3
   },
   "file_extension": ".py",
   "mimetype": "text/x-python",
   "name": "python",
   "nbconvert_exporter": "python",
   "pygments_lexer": "ipython3",
   "version": "3.10.9"
  },
  "orig_nbformat": 4
 },
 "nbformat": 4,
 "nbformat_minor": 2
}
