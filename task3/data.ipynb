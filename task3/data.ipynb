{
 "cells": [
  {
   "cell_type": "code",
   "execution_count": 3,
   "metadata": {},
   "outputs": [],
   "source": [
    "import numpy as np\n",
    "\n",
    "import torchvision.datasets as datasets"
   ]
  },
  {
   "cell_type": "code",
   "execution_count": 2,
   "metadata": {},
   "outputs": [],
   "source": [
    "def load_triplets(filename):\n",
    "    \"\"\"Load triplets from file.\"\"\"\n",
    "    triplets = []\n",
    "    with open(filename) as f:\n",
    "        for line in f:\n",
    "            a, b, c = line.strip().split(' ')\n",
    "            triplets.append((a, b, c))\n",
    "    return triplets"
   ]
  },
  {
   "cell_type": "code",
   "execution_count": 3,
   "metadata": {},
   "outputs": [],
   "source": [
    "TRAIN_TRIPLETS = 'train_triplets.txt'\n",
    "TEST_TRIPLETS = 'test_triplets.txt'\n",
    "\n",
    "train_triplets = load_triplets(TRAIN_TRIPLETS)\n",
    "test_triplets = load_triplets(TEST_TRIPLETS)"
   ]
  },
  {
   "cell_type": "code",
   "execution_count": null,
   "metadata": {},
   "outputs": [],
   "source": [
    "for a, b, c in test_triplets:\n",
    "    if (a, b, c) in train_triplets:\n",
    "        print('Test triplet ({}, {}, {}) is in train set'.format(a, b, c))\n",
    "    elif (a, c, b) in train_triplets:\n",
    "        print('Test triplet ({}, {}, {}) is in train set'.format(a, c, b))"
   ]
  },
  {
   "cell_type": "code",
   "execution_count": 5,
   "metadata": {},
   "outputs": [],
   "source": [
    "new_triplets = []\n",
    "for a, b, c in train_triplets:\n",
    "    # if this tuple starting with b, c, and end with anything then print this tuple\n",
    "    for t in train_triplets:\n",
    "        if t[0] == b and t[1] == c:\n",
    "            new_triplets.append((a, b, t[2]))"
   ]
  },
  {
   "cell_type": "code",
   "execution_count": 8,
   "metadata": {},
   "outputs": [],
   "source": [
    "for t in new_triplets:\n",
    "    if t in train_triplets:\n",
    "        # remove the tuple from new_triplets\n",
    "        new_triplets.remove(t)"
   ]
  },
  {
   "cell_type": "code",
   "execution_count": 9,
   "metadata": {},
   "outputs": [
    {
     "data": {
      "text/plain": [
       "116"
      ]
     },
     "execution_count": 9,
     "metadata": {},
     "output_type": "execute_result"
    }
   ],
   "source": [
    "len(new_triplets)"
   ]
  },
  {
   "cell_type": "code",
   "execution_count": 6,
   "metadata": {},
   "outputs": [],
   "source": [
    "# save new triplets to file\n",
    "with open('new_train_triplets.txt', 'w') as f:\n",
    "    for t in new_triplets:\n",
    "        f.write('{} {} {}\\n'.format(t[0], t[1], t[2]))\n",
    "    for t in train_triplets:\n",
    "        f.write('{} {} {}\\n'.format(t[0], t[1], t[2]))"
   ]
  },
  {
   "cell_type": "code",
   "execution_count": 4,
   "metadata": {},
   "outputs": [],
   "source": [
    "file = 'new_train_triplets.txt'\n",
    "embeddings_file_name = './dataset/embeddings-RNY16.npy'\n",
    "triplets = []\n",
    "with open(file) as f:\n",
    "    for line in f:\n",
    "        triplets.append(line)\n",
    "\n",
    "# generate training data from triplets\n",
    "train_dataset = datasets.ImageFolder(root=\"dataset/\",\n",
    "                                        transform=None)\n",
    "filenames = [s[0].split('\\\\')[-1].replace('.jpg', '') for s in train_dataset.samples]\n",
    "embeddings = np.load(embeddings_file_name)\n",
    "\n",
    "file_to_embedding = {}\n",
    "for i in range(len(filenames)):\n",
    "    file_to_embedding[filenames[i]] = embeddings[i]"
   ]
  },
  {
   "cell_type": "code",
   "execution_count": 5,
   "metadata": {},
   "outputs": [
    {
     "data": {
      "text/plain": [
       "array([0.33590603, 1.2085309 , 0.25457829, ..., 0.65684861, 0.65999776,\n",
       "       0.81565267])"
      ]
     },
     "execution_count": 5,
     "metadata": {},
     "output_type": "execute_result"
    }
   ],
   "source": [
    "file_to_embedding['00003']"
   ]
  },
  {
   "cell_type": "code",
   "execution_count": 9,
   "metadata": {},
   "outputs": [],
   "source": [
    "a = np.vstack([file_to_embedding['00003'], file_to_embedding['00001'], file_to_embedding['00002']])\n",
    "b = np.vstack([file_to_embedding['00003'], file_to_embedding['00002'], file_to_embedding['00001']])\n"
   ]
  },
  {
   "cell_type": "code",
   "execution_count": 20,
   "metadata": {},
   "outputs": [
    {
     "data": {
      "text/plain": [
       "(2, 3, 3024)"
      ]
     },
     "execution_count": 20,
     "metadata": {},
     "output_type": "execute_result"
    }
   ],
   "source": [
    "c = []\n",
    "c.append(a)\n",
    "c.append(b)\n",
    "c = np.array(c)\n",
    "c.shape\n"
   ]
  }
 ],
 "metadata": {
  "kernelspec": {
   "display_name": "DL",
   "language": "python",
   "name": "python3"
  },
  "language_info": {
   "codemirror_mode": {
    "name": "ipython",
    "version": 3
   },
   "file_extension": ".py",
   "mimetype": "text/x-python",
   "name": "python",
   "nbconvert_exporter": "python",
   "pygments_lexer": "ipython3",
   "version": "3.10.9"
  },
  "orig_nbformat": 4
 },
 "nbformat": 4,
 "nbformat_minor": 2
}
