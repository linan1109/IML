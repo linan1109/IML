{
 "cells": [
  {
   "cell_type": "code",
   "execution_count": 2,
   "metadata": {},
   "outputs": [],
   "source": [
    "import numpy as np\n"
   ]
  },
  {
   "cell_type": "code",
   "execution_count": 4,
   "metadata": {},
   "outputs": [],
   "source": [
    "def load_triplets(filename):\n",
    "    \"\"\"Load triplets from file.\"\"\"\n",
    "    triplets = []\n",
    "    with open(filename) as f:\n",
    "        for line in f:\n",
    "            a, b, c = line.strip().split(' ')\n",
    "            triplets.append((a, b, c))\n",
    "    return triplets"
   ]
  },
  {
   "cell_type": "code",
   "execution_count": 5,
   "metadata": {},
   "outputs": [],
   "source": [
    "TRAIN_TRIPLETS = 'train_triplets.txt'\n",
    "TEST_TRIPLETS = 'test_triplets.txt'\n",
    "\n",
    "train_triplets = load_triplets(TRAIN_TRIPLETS)\n",
    "test_triplets = load_triplets(TEST_TRIPLETS)"
   ]
  },
  {
   "cell_type": "code",
   "execution_count": null,
   "metadata": {},
   "outputs": [],
   "source": [
    "for a, b, c in test_triplets:\n",
    "    if (a, b, c) in train_triplets:\n",
    "        print('Test triplet ({}, {}, {}) is in train set'.format(a, b, c))\n",
    "    elif (a, c, b) in train_triplets:\n",
    "        print('Test triplet ({}, {}, {}) is in train set'.format(a, c, b))"
   ]
  },
  {
   "cell_type": "code",
   "execution_count": 3,
   "metadata": {},
   "outputs": [
    {
     "name": "stdout",
     "output_type": "stream",
     "text": [
      "(10000, 1536)\n"
     ]
    }
   ],
   "source": [
    "# read from dataset/embeddings-ENB3\n",
    "\n",
    "def load_embeddings(filename='./dataset/embeddings-ENB3.npy'):\n",
    "    return np.load(filename)\n",
    "\n",
    "embeddings = load_embeddings()\n",
    "print(embeddings.shape)\n"
   ]
  },
  {
   "cell_type": "code",
   "execution_count": 4,
   "metadata": {},
   "outputs": [
    {
     "name": "stdout",
     "output_type": "stream",
     "text": [
      "[0.19783217 0.08930708 0.2425832  ... 0.15114032 0.1304681  0.22609204]\n"
     ]
    }
   ],
   "source": [
    "print(embeddings[0])"
   ]
  }
 ],
 "metadata": {
  "kernelspec": {
   "display_name": "DL",
   "language": "python",
   "name": "python3"
  },
  "language_info": {
   "codemirror_mode": {
    "name": "ipython",
    "version": 3
   },
   "file_extension": ".py",
   "mimetype": "text/x-python",
   "name": "python",
   "nbconvert_exporter": "python",
   "pygments_lexer": "ipython3",
   "version": "3.10.9"
  },
  "orig_nbformat": 4
 },
 "nbformat": 4,
 "nbformat_minor": 2
}
