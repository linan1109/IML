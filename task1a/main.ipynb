{
 "cells": [
  {
   "cell_type": "code",
   "execution_count": 1,
   "metadata": {},
   "outputs": [],
   "source": [
    "import pandas as pd\n",
    "import numpy as np\n",
    "from sklearn.model_selection import KFold"
   ]
  },
  {
   "cell_type": "code",
   "execution_count": 2,
   "metadata": {},
   "outputs": [],
   "source": [
    "def fit(X, y, lam):\n",
    "    \"\"\"\n",
    "    This function receives training data points, then fits the ridge regression on this data\n",
    "    with regularization hyperparameter lambda. The weights w of the fitted ridge regression\n",
    "    are returned. \n",
    "\n",
    "    Parameters\n",
    "    ----------\n",
    "    X: matrix of floats, dim = (135,13), inputs with 13 features\n",
    "    y: array of floats, dim = (135,), input labels)\n",
    "    lam: float. lambda parameter, used in regularization term\n",
    "\n",
    "    Returns\n",
    "    ----------\n",
    "    w: array of floats: dim = (13,), optimal parameters of ridge regression\n",
    "    \"\"\"\n",
    "\n",
    "    w = np.linalg.inv(X.T @ X + lam * np.identity(13)) @ X.T @ y\n",
    "    assert w.shape == (13,)\n",
    "    return w"
   ]
  },
  {
   "cell_type": "code",
   "execution_count": 3,
   "metadata": {},
   "outputs": [],
   "source": [
    "\n",
    "def calculate_RMSE(w, X, y):\n",
    "    \"\"\"This function takes test data points (X and y), and computes the empirical RMSE of \n",
    "    predicting y from X using a linear model with weights w. \n",
    "\n",
    "    Parameters\n",
    "    ----------\n",
    "    w: array of floats: dim = (13,), optimal parameters of ridge regression \n",
    "    X: matrix of floats, dim = (15,13), inputs with 13 features\n",
    "    y: array of floats, dim = (15,), input labels\n",
    "\n",
    "    Returns\n",
    "    ----------\n",
    "    RMSE: float: dim = 1, RMSE value\n",
    "    \"\"\"\n",
    "    RMSE = np.sqrt(np.mean((y - np.dot(X, w))**2))\n",
    "    assert np.isscalar(RMSE)\n",
    "    return RMSE\n"
   ]
  },
  {
   "cell_type": "code",
   "execution_count": 4,
   "metadata": {},
   "outputs": [],
   "source": [
    "\n",
    "def average_LR_RMSE(X, y, lambdas, n_folds):\n",
    "    \"\"\"\n",
    "    Main cross-validation loop, implementing 10-fold CV. In every iteration (for every train-test split), the RMSE for every lambda is calculated, \n",
    "    and then averaged over iterations.\n",
    "    \n",
    "    Parameters\n",
    "    ---------- \n",
    "    X: matrix of floats, dim = (150, 13), inputs with 13 features\n",
    "    y: array of floats, dim = (150, ), input labels\n",
    "    lambdas: list of floats, len = 5, values of lambda for which ridge regression is fitted and RMSE estimated\n",
    "    n_folds: int, number of folds (pieces in which we split the dataset), parameter K in KFold CV\n",
    "    \n",
    "    Returns\n",
    "    ----------\n",
    "    avg_RMSE: array of floats: dim = (5,), average RMSE value for every lambda\n",
    "    \"\"\"\n",
    "    RMSE_mat = np.zeros((n_folds, len(lambdas)))\n",
    "\n",
    "    kf = KFold(n_splits=n_folds, shuffle=True, random_state=2023)\n",
    "    for i, (train_index, test_index) in enumerate(kf.split(X)):\n",
    "        X_train, X_test = X[train_index], X[test_index]\n",
    "        y_train, y_test = y[train_index], y[test_index]\n",
    "        for j, lam in enumerate(lambdas):\n",
    "            w = fit(X_train, y_train, lam)\n",
    "            RMSE_mat[i, j] = calculate_RMSE(w, X_test, y_test)\n",
    "\n",
    "    avg_RMSE = np.mean(RMSE_mat, axis=0)\n",
    "    assert avg_RMSE.shape == (5,)\n",
    "    return avg_RMSE\n"
   ]
  },
  {
   "cell_type": "code",
   "execution_count": 5,
   "metadata": {},
   "outputs": [
    {
     "name": "stdout",
     "output_type": "stream",
     "text": [
      "result is -> [5.39472303 5.36561674 5.32195664 5.75055204 6.04980454]\n"
     ]
    }
   ],
   "source": [
    "# Main function. You don't have to change this\n",
    "\n",
    "# Data loading\n",
    "data = pd.read_csv(\"train.csv\")\n",
    "y = data[\"y\"].to_numpy()\n",
    "data = data.drop(columns=\"y\")\n",
    "# print a few data samples\n",
    "# print(data.head())\n",
    "\n",
    "X = data.to_numpy()\n",
    "# The function calculating the average RMSE\n",
    "lambdas = [0.1, 1, 10, 100, 200]\n",
    "n_folds = 10\n",
    "avg_RMSE = average_LR_RMSE(X, y, lambdas, n_folds)\n",
    "# Save results in the required format\n",
    "np.savetxt(\"./results.csv\", avg_RMSE, fmt=\"%.12f\")\n",
    "print('result is ->' , avg_RMSE)"
   ]
  }
 ],
 "metadata": {
  "kernelspec": {
   "display_name": "base",
   "language": "python",
   "name": "python3"
  },
  "language_info": {
   "codemirror_mode": {
    "name": "ipython",
    "version": 3
   },
   "file_extension": ".py",
   "mimetype": "text/x-python",
   "name": "python",
   "nbconvert_exporter": "python",
   "pygments_lexer": "ipython3",
   "version": "3.9.13"
  },
  "orig_nbformat": 4
 },
 "nbformat": 4,
 "nbformat_minor": 2
}
